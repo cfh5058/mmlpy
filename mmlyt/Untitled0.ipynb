{
 "metadata": {
  "name": "Untitled0"
 },
 "nbformat": 3,
 "nbformat_minor": 0,
 "worksheets": [
  {
   "cells": [
    {
     "cell_type": "code",
     "collapsed": false,
     "input": [
      "import glob\n",
      "import matplotlib.pyplot as plt\n",
      "#import mmlyt                                                                                                                                                                        \n",
      "#import pynbody                                                                                                                                                                      \n",
      "import pysim\n",
      "from mmlyt.main import runtag2simobj\n",
      "\n",
      "runtag='MW_6M11LH11FG0'\n",
      "\n",
      "simstr=runtag2simobj(runtag)\n",
      "\n",
      "fns=sorted(glob.glob(simstr.fdict['gadget']['output']['snapbase']+'*'))\n",
      "ifn=fns[0]\n",
      "#ifn=simstr.fdict['gadget']['input']['ic']\n",
      "\n",
      "nb=pysim.load(ifn)\n",
      "nb.keys()\n",
      "nb.loadable_keys()\n"
     ],
     "language": "python",
     "metadata": {},
     "outputs": [
      {
       "output_type": "stream",
       "stream": "stdout",
       "text": [
        "['HEAD', 'POS ', 'VEL ', 'ID  ', 'MASS', 'U   ', 'RHO ', 'HSML', 'POT ', 'ACCE', 'ENDT', 'TSTP']\n"
       ]
      },
      {
       "output_type": "stream",
       "stream": "stderr",
       "text": [
        "Loading using backend <class 'pysim.gadget.GadgetSnap'>\n"
       ]
      },
      {
       "output_type": "pyout",
       "prompt_number": 1,
       "text": [
        "['iord', 'mass', 'acc', 'phi', 'pos', 'vel']"
       ]
      }
     ],
     "prompt_number": 1
    },
    {
     "cell_type": "code",
     "collapsed": false,
     "input": [
      "nb['eps']"
     ],
     "language": "python",
     "metadata": {},
     "outputs": [
      {
       "output_type": "pyout",
       "prompt_number": 2,
       "text": [
        "SimArray([ 0.068,  0.068,  0.068, ...,  0.56 ,  0.56 ,  0.56 ], dtype=float32, '3.09e+21 cm')"
       ]
      }
     ],
     "prompt_number": 2
    },
    {
     "cell_type": "code",
     "collapsed": false,
     "input": [
      "nb.dm['pos']\n"
     ],
     "language": "python",
     "metadata": {},
     "outputs": [
      {
       "output_type": "pyout",
       "prompt_number": 4,
       "text": [
        "SimArray([[-60.38134384, -65.53548431, -56.3706665 ],\n",
        "       [-58.78007889, -62.35998917, -56.71967316],\n",
        "       [-60.16300964, -61.69846725, -55.29498291],\n",
        "       ..., \n",
        "       [-55.83052826, -62.53401184,  52.74939728],\n",
        "       [-57.90492249, -62.25862503,  55.07087708],\n",
        "       [-60.98709869, -65.43875122,  53.90325546]], dtype=float32, '3.09e+21 cm')"
       ]
      }
     ],
     "prompt_number": 4
    },
    {
     "cell_type": "code",
     "collapsed": false,
     "input": [
      "nb['phi']"
     ],
     "language": "python",
     "metadata": {},
     "outputs": [
      {
       "output_type": "pyout",
       "prompt_number": 7,
       "text": [
        "SimArray([ -5050.90185547,  -5179.47900391,  -5198.3203125 , ...,\n",
        "       -26093.43945312, -24626.47265625, -22890.6015625 ], dtype=float32, '1.00e+10 cm**2 s**-2')"
       ]
      }
     ],
     "prompt_number": 7
    },
    {
     "cell_type": "code",
     "collapsed": false,
     "input": [
      "nb.physical_units()"
     ],
     "language": "python",
     "metadata": {},
     "outputs": [],
     "prompt_number": 9
    },
    {
     "cell_type": "code",
     "collapsed": false,
     "input": [
      "nb['phi']"
     ],
     "language": "python",
     "metadata": {},
     "outputs": [
      {
       "output_type": "pyout",
       "prompt_number": 10,
       "text": [
        "SimArray([ -5050.90185547,  -5179.47900391,  -5198.3203125 , ...,\n",
        "       -26093.43945312, -24626.47265625, -22890.6015625 ], dtype=float32, '1.00e+10 cm**2 s**-2')"
       ]
      }
     ],
     "prompt_number": 10
    },
    {
     "cell_type": "code",
     "collapsed": false,
     "input": [
      "nb.physical_units()\n",
      "nb['mass']\n"
     ],
     "language": "python",
     "metadata": {},
     "outputs": [
      {
       "output_type": "pyout",
       "prompt_number": 37,
       "text": [
        "SimArray([ 125627.1561168 ,  125627.1561168 ,  125627.1561168 , ...,\n",
        "         80003.21889492,   80003.21889492,   80003.21889492], 'Msol')"
       ]
      }
     ],
     "prompt_number": 37
    },
    {
     "cell_type": "code",
     "collapsed": false,
     "input": [
      "pysim.plot.generic.hist2d(nb['x'],nb['y'],filename='/home/langmm/test.png')\n"
     ],
     "language": "python",
     "metadata": {},
     "outputs": [
      {
       "output_type": "stream",
       "stream": "stderr",
       "text": [
        "TipsySnap: writing main file as testchangaic\n",
        "TipsySnap: writing auxiliary arrays"
       ]
      },
      {
       "output_type": "stream",
       "stream": "stderr",
       "text": [
        "\n"
       ]
      }
     ],
     "prompt_number": 43
    },
    {
     "cell_type": "code",
     "collapsed": false,
     "input": [
      "nb.write(pysim.tipsy.TipsySnap,'testchangaic')\n",
      "tip=pysim.load('testchangaic')"
     ],
     "language": "python",
     "metadata": {},
     "outputs": [
      {
       "output_type": "stream",
       "stream": "stderr",
       "text": [
        "/home/langmm/utils/python/mine/pysim/tipsy.py:116: RuntimeWarning: No readable param file in the run directory or parent directory: using defaults.\n",
        "  warnings.warn(\"No readable param file in the run directory or parent directory: using defaults.\",RuntimeWarning)\n",
        "Loading using backend <class 'pysim.tipsy.TipsySnap'>\n",
        "TipsySnap: loading  testchangaic\n"
       ]
      }
     ],
     "prompt_number": 44
    },
    {
     "cell_type": "code",
     "collapsed": false,
     "input": [
      "nb.loadable_keys()"
     ],
     "language": "python",
     "metadata": {},
     "outputs": [
      {
       "output_type": "pyout",
       "prompt_number": 45,
       "text": [
        "['iord', 'mass', 'acc', 'phi', 'pos', 'vel']"
       ]
      }
     ],
     "prompt_number": 45
    },
    {
     "cell_type": "code",
     "collapsed": false,
     "input": [],
     "language": "python",
     "metadata": {},
     "outputs": []
    }
   ],
   "metadata": {}
  }
 ]
}