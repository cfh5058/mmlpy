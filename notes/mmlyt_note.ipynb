{
 "metadata": {
  "name": "mmlyt_note"
 },
 "nbformat": 3,
 "nbformat_minor": 0,
 "worksheets": [
  {
   "cells": [
    {
     "cell_type": "code",
     "collapsed": false,
     "input": 
      "#!/usr/bin/env python\n"
      "import sys,os,shutil,glob,copy,pprint,scipy,math\n",
      "import numpy as np\n",
      "print np.__file__\n",
      "#from mmlutils import *                                                                                                                                                              \n",
      "#from mmlastro import *            \n",
      "import mmlyt\n",
      "#import pNbody\n",
      "#from mmlnbody import *                                                                                                                                                              \n",
      "\n",
      "#from yt.imods import *\n",
      "import pynbody\n",
      "\n",
      "# Select the run                                                                                                                                                                     \n",
      "runtag='MW_6M11LH11FG0'\n",
      "\n",
      "# Get the simstr object                                                                                                                                                              \n",
      "simstr=mmlyt.main.runtag2simobj(runtag)\n",
      "\n",
      "# Get the snapshot names                                                                                                                                                             \n",
      "fns=sorted(glob.glob(simstr.fdict['gadget']['output']['snapbase']+'*'))\n",
      "ifn=fns[0]\n",
      "\n",
      "# Load snap\n",
      "#nb=pNbody.Nbody(ifn,ftype='gadget')\n",
      "nb=pynbody.load(ifn)\n",
      "\n",
      "# Create grid\n",
      "#from yt.frontends.stream.api import load_uniform_grid\n",
      "#data=dict(Mass=nb.mass,\n",
      "#          number_of_particles=nb.nbody,\n",
      "#          particle_position_x=nb.pos[:,0],\n",
      "#          particle_position_y=nb.pos[:,1],\n",
      "#          particle_position_z=nb.pos[:,2])\n",
      "#help(load_uniform_grid)\n",
      "#ipf=load_uniform_grid(data,nb.mass.shape,3.085678e21)\n",
      "\n",
      "#help(load,'gadget')\n",
      "#ipf = load(ifn)\n",
      "\n",
      "# Print stats                                                                                                                                                                        \n",
      "#ipf.h.print_stats()\n",
      "#ipf.h.field_list\n",
      "#ipf.h.derived_field_list"
     ],
     "language": "python",
     "metadata": {},
     "outputs": [
      {
       "output_type": "stream",
       "stream": "stdout",
       "text": [
        "/home/langmm/utils/python/yt-x86_64/lib/python2.7/site-packages/numpy/__init__.pyc\n",
        "Help on function load_uniform_grid in module yt.frontends.stream.data_structures:\n",
        "\n",
        "load_uniform_grid(data, domain_dimensions, sim_unit_to_cm, bbox=None, nprocs=1, sim_time=0.0, periodicity=(True, True, True))\n",
        "    Load a uniform grid of data into yt as a\n",
        "    :class:`~yt.frontends.stream.data_structures.StreamHandler`.\n",
        "    \n",
        "    This should allow a uniform grid of data to be loaded directly into yt and\n",
        "    analyzed as would any others.  This comes with several caveats:\n",
        "        * Units will be incorrect unless the data has already been converted to\n",
        "          cgs.\n",
        "        * Some functions may behave oddly, and parallelism will be\n",
        "          disappointing or non-existent in most cases.\n",
        "        * Particles may be difficult to integrate.\n",
        "    \n",
        "    Particle fields are detected as one-dimensional fields. The number of particles\n",
        "    is set by the \"number_of_particles\" key in data.\n",
        "    \n",
        "    Parameters\n",
        "    ----------\n",
        "    data : dict\n",
        "        This is a dict of numpy arrays, where the keys are the field names.\n",
        "    domain_dimensions : array_like\n",
        "        This is the domain dimensions of the grid\n",
        "    sim_unit_to_cm : float\n",
        "        Conversion factor from simulation units to centimeters\n",
        "    bbox : array_like (xdim:zdim, LE:RE), optional\n",
        "        Size of computational domain in units sim_unit_to_cm\n",
        "    nprocs: integer, optional\n",
        "        If greater than 1, will create this number of subarrays out of data\n",
        "    sim_time : float, optional\n",
        "        The simulation time in seconds\n",
        "    periodicity : tuple of booleans\n",
        "        Determines whether the data will be treated as periodic along\n",
        "        each axis\n",
        "    \n",
        "    Examples\n",
        "    --------\n",
        "    \n",
        "    >>> arr = np.random.random((128, 128, 129))\n",
        "    >>> data = dict(Density = arr)\n",
        "    >>> bbox = np.array([[0., 1.0], [-1.5, 1.5], [1.0, 2.5]])\n",
        "    >>> pf = load_uniform_grid(data, arr.shape, 3.08e24, bbox=bbox, nprocs=12)\n"
       ]
      },
      {
       "ename": "TypeError",
       "evalue": "load_uniform_grid() takes at least 3 arguments (2 given)",
       "output_type": "pyerr",
       "traceback": [
        "\u001b[1;31m---------------------------------------------------------------------------\u001b[0m\n\u001b[1;31mTypeError\u001b[0m                                 Traceback (most recent call last)",
        "\u001b[1;32m<ipython-input-6-a5f0e2cba458>\u001b[0m in \u001b[0;36m<module>\u001b[1;34m()\u001b[0m\n\u001b[0;32m     32\u001b[0m           particle_position_z=nb.pos[:,2])\n\u001b[0;32m     33\u001b[0m \u001b[0mhelp\u001b[0m\u001b[1;33m(\u001b[0m\u001b[0mload_uniform_grid\u001b[0m\u001b[1;33m)\u001b[0m\u001b[1;33m\u001b[0m\u001b[0m\n\u001b[1;32m---> 34\u001b[1;33m \u001b[0mipf\u001b[0m\u001b[1;33m=\u001b[0m\u001b[0mload_uniform_grid\u001b[0m\u001b[1;33m(\u001b[0m\u001b[0mdata\u001b[0m\u001b[1;33m,\u001b[0m\u001b[0mnb\u001b[0m\u001b[1;33m.\u001b[0m\u001b[0mmass\u001b[0m\u001b[1;33m.\u001b[0m\u001b[0mshape\u001b[0m\u001b[1;33m)\u001b[0m\u001b[1;33m\u001b[0m\u001b[0m\n\u001b[0m\u001b[0;32m     35\u001b[0m \u001b[1;33m\u001b[0m\u001b[0m\n\u001b[0;32m     36\u001b[0m \u001b[1;31m#help(load,'gadget')\u001b[0m\u001b[1;33m\u001b[0m\u001b[1;33m\u001b[0m\u001b[0m\n",
        "\u001b[1;31mTypeError\u001b[0m: load_uniform_grid() takes at least 3 arguments (2 given)"
       ]
      },
      {
       "output_type": "stream",
       "stream": "stdout",
       "text": [
        "\n"
       ]
      }
     ],
     "prompt_number": 6
    },
    {
     "cell_type": "code",
     "collapsed": false,
     "input": [],
     "language": "python",
     "metadata": {},
     "outputs": [],
     "prompt_number": 3
    },
    {
     "cell_type": "code",
     "collapsed": false,
     "input": [],
     "language": "python",
     "metadata": {},
     "outputs": [],
     "prompt_number": 3
    },
    {
     "cell_type": "code",
     "collapsed": false,
     "input": [],
     "language": "python",
     "metadata": {},
     "outputs": []
    }
   ],
   "metadata": {}
  }
 ]
}