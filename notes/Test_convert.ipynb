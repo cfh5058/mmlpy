{
 "metadata": {
  "name": "Test_convert"
 },
 "nbformat": 3,
 "nbformat_minor": 0,
 "worksheets": [
  {
   "cells": [
    {
     "cell_type": "code",
     "collapsed": false,
     "input": [
      "import glob\n",
      "import mmlyt\n",
      "import pynbody\n",
      "\n",
      "runtag='MW_6M11LH11FG0'\n",
      "\n",
      "simstr=mmlyt.main.runtag2simobj(runtag)\n",
      "\n",
      "fns=sorted(glob.glob(simstr.fdict['gadget']['output']['snapbase']+'*'))\n",
      "ifn=fns[0]\n",
      "#ifn=simstr.fdict['gadget']['input']['ic']\n",
      "mmlyt.mmlgadget.test_snap(ifn)\n",
      "mmlyt.mmlgadget.get_blocklist(ifn)\n",
      "\n",
      "inb=mmlyt.mmlgadget.rw_snap('R',ifn)\n",
      "\n",
      "#nb=pynbody.load(ifn)\n",
      "#nb.loadable_keys()"
     ],
     "language": "python",
     "metadata": {},
     "outputs": [],
     "prompt_number": "*"
    },
    {
     "cell_type": "code",
     "collapsed": false,
     "input": [],
     "language": "python",
     "metadata": {},
     "outputs": []
    }
   ],
   "metadata": {}
  }
 ]
}